{
 "cells": [
  {
   "cell_type": "code",
   "execution_count": 74,
   "metadata": {},
   "outputs": [],
   "source": [
    "import os\n",
    "\n",
    "inputdir = \"./final/\"\n",
    "output_file = open(\"../transactions.js\", \"w\")\n",
    "output_file.write(\"var transactions = [\")\n",
    "for subdir, dirs, files in os.walk(inputdir):\n",
    "    for file in files:\n",
    "        if file[-2:] != \"js\":\n",
    "            continue\n",
    "        json_file = open(subdir + os.sep + file).read()\n",
    "        output_file.write(json_file)\n",
    "        output_file.write(',')\n",
    "output_file.write(\"];\")\n",
    "output_file.close()\n"
   ]
  }
 ],
 "metadata": {
  "kernelspec": {
   "display_name": "Python 3",
   "language": "python",
   "name": "python3"
  },
  "language_info": {
   "codemirror_mode": {
    "name": "ipython",
    "version": 3
   },
   "file_extension": ".py",
   "mimetype": "text/x-python",
   "name": "python",
   "nbconvert_exporter": "python",
   "pygments_lexer": "ipython3",
   "version": "3.8.10"
  }
 },
 "nbformat": 4,
 "nbformat_minor": 4
}
